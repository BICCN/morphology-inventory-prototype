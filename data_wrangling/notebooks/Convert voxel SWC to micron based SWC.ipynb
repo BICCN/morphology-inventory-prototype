{
 "cells": [
  {
   "cell_type": "code",
   "execution_count": 59,
   "metadata": {},
   "outputs": [],
   "source": [
    "import SimpleITK as sitk\n",
    "import os\n",
    "import pandas as pd\n",
    "import json\n",
    "import numpy as np"
   ]
  },
  {
   "cell_type": "code",
   "execution_count": 60,
   "metadata": {},
   "outputs": [],
   "source": [
    "# data path\n",
    "input_directory = 'C:/Users/lydia/OneDrive/Work/DigitalAssets/BICCNMorphologyInventory/u19zeng'\n",
    "output_directory = 'C:/Users/lydia/OneDrive/Work/DigitalAssets/BICCNMorphologyInventory/u19zeng'"
   ]
  },
  {
   "cell_type": "code",
   "execution_count": 61,
   "metadata": {},
   "outputs": [],
   "source": [
    "# Read / write SWC files\n",
    "# To do - move this to a library\n",
    "scols = [\"Index\",\"Type\",\"X\",\"Y\",\"Z\",\"Radius\",\"Parent\"]\n",
    "sdict = {}\n",
    "for idx in range(len(scols)) :\n",
    "    sdict[idx] = scols[idx]\n",
    "\n",
    "def read_swc (fname) :\n",
    "    \n",
    "    df = pd.read_csv( fname, sep=r\"\\s+\", comment = \"#\", header=None )\n",
    "    \n",
    "    # keep only the 7 standard columns\n",
    "    dcols = df.columns[len(scols):]\n",
    "    df = df.drop( dcols, axis = 1 )\n",
    "    df = df.rename( columns = sdict )\n",
    "    df.set_index('Index', inplace=True)\n",
    "    \n",
    "    return df\n",
    "\n",
    "def write_swc (df, fname) :\n",
    "    df.to_csv(fname,sep = ' ', header=False)\n"
   ]
  },
  {
   "cell_type": "code",
   "execution_count": 62,
   "metadata": {},
   "outputs": [],
   "source": [
    "# open combined and downsampled inventory files\n",
    "combined_file = 'combined_inventory.csv'\n",
    "reconstruction_file = 'reconstruction_inventory.csv'"
   ]
  },
  {
   "cell_type": "code",
   "execution_count": 63,
   "metadata": {},
   "outputs": [],
   "source": [
    "samples = pd.read_csv(os.path.join(input_directory,combined_file))\n",
    "reconstructions = pd.read_csv(os.path.join(input_directory,reconstruction_file))\n",
    "\n",
    "samples.set_index('HUST Sample ID', inplace=True)\n",
    "reconstructions.set_index('Reconstruction ID', inplace=True)"
   ]
  },
  {
   "cell_type": "code",
   "execution_count": 64,
   "metadata": {},
   "outputs": [],
   "source": [
    "samples = samples.loc[[17543,182725]]"
   ]
  },
  {
   "cell_type": "code",
   "execution_count": 65,
   "metadata": {},
   "outputs": [
    {
     "name": "stdout",
     "output_type": "stream",
     "text": [
      "17543\n",
      " : C:/Users/lydia/OneDrive/Work/DigitalAssets/BICCNMorphologyInventory/u19zeng\\cells\\mouseID_325875-17543\\1\\1059283974_17543_3828-X6023-Y17044.swc\n",
      "  : C:/Users/lydia/OneDrive/Work/DigitalAssets/BICCNMorphologyInventory/u19zeng\\mouseID_325875-17543\\morphology\\1059283974_17543_3828-X6023-Y17044_um_SLA.swc\n",
      " : C:/Users/lydia/OneDrive/Work/DigitalAssets/BICCNMorphologyInventory/u19zeng\\cells\\mouseID_325875-17543\\1\\1059284283_17543_3471-X12087-Y3637.swc\n",
      "  : C:/Users/lydia/OneDrive/Work/DigitalAssets/BICCNMorphologyInventory/u19zeng\\mouseID_325875-17543\\morphology\\1059284283_17543_3471-X12087-Y3637_um_SLA.swc\n",
      " : C:/Users/lydia/OneDrive/Work/DigitalAssets/BICCNMorphologyInventory/u19zeng\\cells\\mouseID_325875-17543\\1\\1059285168_17543_5334-X5066-Y20381.swc\n",
      "  : C:/Users/lydia/OneDrive/Work/DigitalAssets/BICCNMorphologyInventory/u19zeng\\mouseID_325875-17543\\morphology\\1059285168_17543_5334-X5066-Y20381_um_SLA.swc\n",
      " : C:/Users/lydia/OneDrive/Work/DigitalAssets/BICCNMorphologyInventory/u19zeng\\cells\\mouseID_325875-17543\\1\\1059285628_17543_3705-X9619-Y20864.swc\n",
      "  : C:/Users/lydia/OneDrive/Work/DigitalAssets/BICCNMorphologyInventory/u19zeng\\mouseID_325875-17543\\morphology\\1059285628_17543_3705-X9619-Y20864_um_SLA.swc\n",
      " : C:/Users/lydia/OneDrive/Work/DigitalAssets/BICCNMorphologyInventory/u19zeng\\cells\\mouseID_325875-17543\\1\\1059286774_17543_2434-X11441-Y5587.swc\n",
      "  : C:/Users/lydia/OneDrive/Work/DigitalAssets/BICCNMorphologyInventory/u19zeng\\mouseID_325875-17543\\morphology\\1059286774_17543_2434-X11441-Y5587_um_SLA.swc\n",
      " : C:/Users/lydia/OneDrive/Work/DigitalAssets/BICCNMorphologyInventory/u19zeng\\cells\\mouseID_325875-17543\\1\\1059286957_17543_3842-X7369-Y3542.swc\n",
      "  : C:/Users/lydia/OneDrive/Work/DigitalAssets/BICCNMorphologyInventory/u19zeng\\mouseID_325875-17543\\morphology\\1059286957_17543_3842-X7369-Y3542_um_SLA.swc\n",
      " : C:/Users/lydia/OneDrive/Work/DigitalAssets/BICCNMorphologyInventory/u19zeng\\cells\\mouseID_325875-17543\\1\\1059288658_17543_5296-X5131-Y20385.swc\n",
      "  : C:/Users/lydia/OneDrive/Work/DigitalAssets/BICCNMorphologyInventory/u19zeng\\mouseID_325875-17543\\morphology\\1059288658_17543_5296-X5131-Y20385_um_SLA.swc\n",
      " : C:/Users/lydia/OneDrive/Work/DigitalAssets/BICCNMorphologyInventory/u19zeng\\cells\\mouseID_325875-17543\\1\\1059289260_17543_3308-X10077-Y3766.swc\n",
      "  : C:/Users/lydia/OneDrive/Work/DigitalAssets/BICCNMorphologyInventory/u19zeng\\mouseID_325875-17543\\morphology\\1059289260_17543_3308-X10077-Y3766_um_SLA.swc\n",
      "182725\n",
      " : C:/Users/lydia/OneDrive/Work/DigitalAssets/BICCNMorphologyInventory/u19zeng\\cells\\mouseID_405429-182725\\1\\1059281903_182725_5012-X5980-Y10427.swc\n",
      "  : C:/Users/lydia/OneDrive/Work/DigitalAssets/BICCNMorphologyInventory/u19zeng\\mouseID_405429-182725\\morphology\\1059281903_182725_5012-X5980-Y10427_um_SLA.swc\n",
      " : C:/Users/lydia/OneDrive/Work/DigitalAssets/BICCNMorphologyInventory/u19zeng\\cells\\mouseID_405429-182725\\1\\1059284612_182725_2917-X9391-Y22263.swc\n",
      "  : C:/Users/lydia/OneDrive/Work/DigitalAssets/BICCNMorphologyInventory/u19zeng\\mouseID_405429-182725\\morphology\\1059284612_182725_2917-X9391-Y22263_um_SLA.swc\n",
      " : C:/Users/lydia/OneDrive/Work/DigitalAssets/BICCNMorphologyInventory/u19zeng\\cells\\mouseID_405429-182725\\1\\1059284828_182725_2581-X9375-Y21137.swc\n",
      "  : C:/Users/lydia/OneDrive/Work/DigitalAssets/BICCNMorphologyInventory/u19zeng\\mouseID_405429-182725\\morphology\\1059284828_182725_2581-X9375-Y21137_um_SLA.swc\n",
      " : C:/Users/lydia/OneDrive/Work/DigitalAssets/BICCNMorphologyInventory/u19zeng\\cells\\mouseID_405429-182725\\1\\1059285121_182725_2390-X8944-Y12077.swc\n",
      "  : C:/Users/lydia/OneDrive/Work/DigitalAssets/BICCNMorphologyInventory/u19zeng\\mouseID_405429-182725\\morphology\\1059285121_182725_2390-X8944-Y12077_um_SLA.swc\n",
      " : C:/Users/lydia/OneDrive/Work/DigitalAssets/BICCNMorphologyInventory/u19zeng\\cells\\mouseID_405429-182725\\1\\1059286109_182725_2241-X9113-Y11193.swc\n",
      "  : C:/Users/lydia/OneDrive/Work/DigitalAssets/BICCNMorphologyInventory/u19zeng\\mouseID_405429-182725\\morphology\\1059286109_182725_2241-X9113-Y11193_um_SLA.swc\n",
      " : C:/Users/lydia/OneDrive/Work/DigitalAssets/BICCNMorphologyInventory/u19zeng\\cells\\mouseID_405429-182725\\1\\1059287080_182725_4080-X6576-Y11407.swc\n",
      "  : C:/Users/lydia/OneDrive/Work/DigitalAssets/BICCNMorphologyInventory/u19zeng\\mouseID_405429-182725\\morphology\\1059287080_182725_4080-X6576-Y11407_um_SLA.swc\n",
      " : C:/Users/lydia/OneDrive/Work/DigitalAssets/BICCNMorphologyInventory/u19zeng\\cells\\mouseID_405429-182725\\1\\1059287629_182725_4160-X5717-Y19181.swc\n",
      "  : C:/Users/lydia/OneDrive/Work/DigitalAssets/BICCNMorphologyInventory/u19zeng\\mouseID_405429-182725\\morphology\\1059287629_182725_4160-X5717-Y19181_um_SLA.swc\n",
      " : C:/Users/lydia/OneDrive/Work/DigitalAssets/BICCNMorphologyInventory/u19zeng\\cells\\mouseID_405429-182725\\1\\1059288380_182725_2376-X10033-Y10786.swc\n",
      "  : C:/Users/lydia/OneDrive/Work/DigitalAssets/BICCNMorphologyInventory/u19zeng\\mouseID_405429-182725\\morphology\\1059288380_182725_2376-X10033-Y10786_um_SLA.swc\n",
      " : C:/Users/lydia/OneDrive/Work/DigitalAssets/BICCNMorphologyInventory/u19zeng\\cells\\mouseID_405429-182725\\1\\1059288632_182725_3680-X13452-Y7614.swc\n",
      "  : C:/Users/lydia/OneDrive/Work/DigitalAssets/BICCNMorphologyInventory/u19zeng\\mouseID_405429-182725\\morphology\\1059288632_182725_3680-X13452-Y7614_um_SLA.swc\n",
      " : C:/Users/lydia/OneDrive/Work/DigitalAssets/BICCNMorphologyInventory/u19zeng\\cells\\mouseID_405429-182725\\1\\1059288648_182725_7341-X4593-Y22594.swc\n",
      "  : C:/Users/lydia/OneDrive/Work/DigitalAssets/BICCNMorphologyInventory/u19zeng\\mouseID_405429-182725\\morphology\\1059288648_182725_7341-X4593-Y22594_um_SLA.swc\n",
      " : C:/Users/lydia/OneDrive/Work/DigitalAssets/BICCNMorphologyInventory/u19zeng\\cells\\mouseID_405429-182725\\1\\1059288835_182725_4390-X5078-Y18459.swc\n",
      "  : C:/Users/lydia/OneDrive/Work/DigitalAssets/BICCNMorphologyInventory/u19zeng\\mouseID_405429-182725\\morphology\\1059288835_182725_4390-X5078-Y18459_um_SLA.swc\n",
      " : C:/Users/lydia/OneDrive/Work/DigitalAssets/BICCNMorphologyInventory/u19zeng\\cells\\mouseID_405429-182725\\1\\1059289255_182725_6819-X6109-Y7853.swc\n",
      "  : C:/Users/lydia/OneDrive/Work/DigitalAssets/BICCNMorphologyInventory/u19zeng\\mouseID_405429-182725\\morphology\\1059289255_182725_6819-X6109-Y7853_um_SLA.swc\n",
      " : C:/Users/lydia/OneDrive/Work/DigitalAssets/BICCNMorphologyInventory/u19zeng\\cells\\mouseID_405429-182725\\1\\1059289579_182725_3762-X5563-Y19178.swc\n",
      "  : C:/Users/lydia/OneDrive/Work/DigitalAssets/BICCNMorphologyInventory/u19zeng\\mouseID_405429-182725\\morphology\\1059289579_182725_3762-X5563-Y19178_um_SLA.swc\n",
      " : C:/Users/lydia/OneDrive/Work/DigitalAssets/BICCNMorphologyInventory/u19zeng\\cells\\mouseID_405429-182725\\1\\1059290135_182725_4290-X5671-Y18488.swc\n",
      "  : C:/Users/lydia/OneDrive/Work/DigitalAssets/BICCNMorphologyInventory/u19zeng\\mouseID_405429-182725\\morphology\\1059290135_182725_4290-X5671-Y18488_um_SLA.swc\n"
     ]
    }
   ],
   "source": [
    "# mapping from rotation value in json to orientation\n",
    "rotation = {}\n",
    "rotation[0] = 'SLA'\n",
    "\n",
    "axes = {}\n",
    "axes[0] = 'X'\n",
    "axes[1] = 'Y'\n",
    "axes[2] = 'Z'\n",
    "\n",
    "oext = \".swc\"\n",
    "\n",
    "for s, row in samples.iterrows() :\n",
    "    \n",
    "    print(s)\n",
    "    \n",
    "    dname = row['Sample ID']\n",
    "    \n",
    "    #\n",
    "    # create output morphology directory\n",
    "    #\n",
    "    odir = os.path.join( output_directory, dname, 'morphology')\n",
    "    if not os.path.exists( odir ) :\n",
    "        os.makedirs( odir )\n",
    "    \n",
    "    #\n",
    "    # open json metadata file\n",
    "    #\n",
    "    if pd.isna(row['JSON Files']) :\n",
    "        continue\n",
    "        \n",
    "    jname = row['JSON Files'].split(';')[0]\n",
    "    jpath = os.path.join( input_directory, dname, jname )\n",
    "    \n",
    "    with open(jpath,) as jf :\n",
    "        jdata = json.load(jf)\n",
    "        \n",
    "    resolution = jdata['SampleInfo']['VoxelResolution '] # in micrometers\n",
    "    \n",
    "    otag = rotation[jdata['SampleInfo']['Rotation']]\n",
    "    \n",
    "    \n",
    "    #\n",
    "    # Find associated reconstruction files\n",
    "    #\n",
    "    rdf = reconstructions\n",
    "    rdf = rdf[rdf[\"HUST Sample ID\"] == s]\n",
    "    rdf = rdf[pd.isna(rdf[\"Reconstruction Type\"])]\n",
    "    \n",
    "    for swc, row in rdf.iterrows() :\n",
    "        \n",
    "        fpath = os.path.join( input_directory, \"cells\", dname, \"1\", row['Filename'] )\n",
    "        print(\" : \" +  fpath)\n",
    "        \n",
    "        # open swc file with voxel index coordinates\n",
    "        ndf = read_swc(fpath)\n",
    "        \n",
    "        # convert to microns\n",
    "        for a in axes :\n",
    "            ndf[axes[a]] = ndf[axes[a]] * resolution[a]\n",
    "            \n",
    "        # construct output file path\n",
    "        oname = os.path.splitext(row['Filename'])[0] + '_um' + '_'  + otag + oext \n",
    "        opath = os.path.join( odir, oname ) \n",
    "        print( \"  : \" + opath )\n",
    "        \n",
    "        # write converted swc\n",
    "        write_swc( ndf, opath )\n",
    "        \n",
    "        \n"
   ]
  },
  {
   "cell_type": "code",
   "execution_count": null,
   "metadata": {},
   "outputs": [],
   "source": []
  }
 ],
 "metadata": {
  "kernelspec": {
   "display_name": "Python 3",
   "language": "python",
   "name": "python3"
  },
  "language_info": {
   "codemirror_mode": {
    "name": "ipython",
    "version": 3
   },
   "file_extension": ".py",
   "mimetype": "text/x-python",
   "name": "python",
   "nbconvert_exporter": "python",
   "pygments_lexer": "ipython3",
   "version": "3.8.5"
  }
 },
 "nbformat": 4,
 "nbformat_minor": 4
}
