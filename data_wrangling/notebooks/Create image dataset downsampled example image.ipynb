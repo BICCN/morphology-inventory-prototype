{
 "cells": [
  {
   "cell_type": "code",
   "execution_count": 1,
   "id": "f73e1de9",
   "metadata": {},
   "outputs": [],
   "source": [
    "import os\n",
    "import pandas as pd\n",
    "import SimpleITK as sitk\n",
    "import glob"
   ]
  },
  {
   "cell_type": "code",
   "execution_count": 2,
   "id": "ceb8c8b9",
   "metadata": {},
   "outputs": [],
   "source": [
    "output_directory = r'C:\\Users\\LydiaN\\OneDrive - Personal\\OneDrive\\Work\\DigitalAssets\\BICCNMorphologyInventory\\u19zeng'\n",
    "inventory_path = os.path.join(output_directory,'sample_inventory_with_image_info.csv')\n",
    "inventory = pd.read_csv(inventory_path)\n",
    "inventory.set_index('Sample ID', inplace=True)"
   ]
  },
  {
   "cell_type": "code",
   "execution_count": 3,
   "id": "7aba38aa",
   "metadata": {},
   "outputs": [],
   "source": [
    "example_directory = os.path.join( output_directory, 'hust_imaging_example_thumbnails')\n",
    "os.makedirs( example_directory, exist_ok=True )\n",
    "cols = ['hust_imaging_id','labtrack_mouse_id','full_resolution_image_path','downsampled_image_path','x_size','y_size']\n",
    "examples = pd.DataFrame( columns = cols)"
   ]
  },
  {
   "cell_type": "code",
   "execution_count": 4,
   "id": "bb237c91",
   "metadata": {},
   "outputs": [
    {
     "name": "stdout",
     "output_type": "stream",
     "text": [
      "mouseID_511266-201604 C:\\Users\\LydiaN\\OneDrive - Personal\\OneDrive\\Work\\DigitalAssets\\BICCNMorphologyInventory\\u19zeng\\mouseID_511266-201604\\green\\raw\\fullres\\201604_05001_CH1.tif\n",
      "mouseID_512894-201605 C:\\Users\\LydiaN\\OneDrive - Personal\\OneDrive\\Work\\DigitalAssets\\BICCNMorphologyInventory\\u19zeng\\mouseID_512894-201605\\green\\raw\\fullres\\201605_05001_CH1.tif\n",
      "mouseID_512897-201606 C:\\Users\\LydiaN\\OneDrive - Personal\\OneDrive\\Work\\DigitalAssets\\BICCNMorphologyInventory\\u19zeng\\mouseID_512897-201606\\green\\raw\\fullres\\201606_05001_CH1.tif\n"
     ]
    }
   ],
   "source": [
    "for iindex, irow in inventory.iterrows() :\n",
    "    \n",
    "    #if irow['HUST Sample ID'] < 201595 :\n",
    "    if irow['HUST Sample ID'] < 201604 :\n",
    "        continue\n",
    "\n",
    "    # specimen input directory\n",
    "    spath = os.path.join(output_directory,iindex)\n",
    "    tpath = os.path.join( spath, 'green', 'raw', 'fullres')\n",
    "\n",
    "    for fpath in glob.glob(os.path.join(tpath,'*.tif')) :\n",
    "        \n",
    "        print (iindex,fpath)\n",
    "        bname = os.path.basename( fpath )\n",
    "        \n",
    "        image = sitk.ReadImage( fpath )\n",
    "        \n",
    "        rec = {}\n",
    "        rec['hust_imaging_id'] = irow['HUST Sample ID']\n",
    "        rec['labtrack_mouse_id'] = irow['Subject ID']\n",
    "        rec['full_resolution_image_path'] = bname\n",
    "        rec['x_size'] = image.GetSize()[0]\n",
    "        rec['y_size'] = image.GetSize()[1]\n",
    "        \n",
    "        dname = \"%d_downsampled_example.png\" % rec['hust_imaging_id']\n",
    "        rec['downsampled_image_path'] = dname\n",
    "        opath = os.path.join( example_directory, dname )\n",
    "        \n",
    "        dimage = sitk.Shrink( image, (25,25))\n",
    "        #dimage = sitk.IntensityWindowing( dimage, 0, 800, 0, 255 )\n",
    "        #dimage = sitk.IntensityWindowing( dimage, 0, 300, 0, 255 )\n",
    "        dimage = sitk.IntensityWindowing( dimage, 0, 150, 0, 255 )\n",
    "\n",
    "        dimage = sitk.Cast( dimage, sitk.sitkUInt8 )\n",
    "        sitk.WriteImage( dimage, opath, True )\n",
    "        \n",
    "        examples = examples.append(rec, ignore_index=True)\n",
    "        break\n",
    "        "
   ]
  },
  {
   "cell_type": "code",
   "execution_count": 5,
   "id": "a0607b27",
   "metadata": {},
   "outputs": [],
   "source": [
    "manifest_directory = os.path.join( example_directory, 'manifests')\n",
    "os.makedirs( manifest_directory, exist_ok = True )\n",
    "examples.to_csv(os.path.join( manifest_directory, 'examples_dummy.csv'), index=False )"
   ]
  },
  {
   "cell_type": "code",
   "execution_count": 6,
   "id": "a7271d38",
   "metadata": {},
   "outputs": [
    {
     "data": {
      "text/html": [
       "<div>\n",
       "<style scoped>\n",
       "    .dataframe tbody tr th:only-of-type {\n",
       "        vertical-align: middle;\n",
       "    }\n",
       "\n",
       "    .dataframe tbody tr th {\n",
       "        vertical-align: top;\n",
       "    }\n",
       "\n",
       "    .dataframe thead th {\n",
       "        text-align: right;\n",
       "    }\n",
       "</style>\n",
       "<table border=\"1\" class=\"dataframe\">\n",
       "  <thead>\n",
       "    <tr style=\"text-align: right;\">\n",
       "      <th></th>\n",
       "      <th>hust_imaging_id</th>\n",
       "      <th>labtrack_mouse_id</th>\n",
       "      <th>full_resolution_image_path</th>\n",
       "      <th>downsampled_image_path</th>\n",
       "      <th>x_size</th>\n",
       "      <th>y_size</th>\n",
       "    </tr>\n",
       "  </thead>\n",
       "  <tbody>\n",
       "    <tr>\n",
       "      <th>0</th>\n",
       "      <td>201604</td>\n",
       "      <td>511266</td>\n",
       "      <td>201604_05001_CH1.tif</td>\n",
       "      <td>201604_downsampled_example.png</td>\n",
       "      <td>28523</td>\n",
       "      <td>22018</td>\n",
       "    </tr>\n",
       "    <tr>\n",
       "      <th>1</th>\n",
       "      <td>201605</td>\n",
       "      <td>512894</td>\n",
       "      <td>201605_05001_CH1.tif</td>\n",
       "      <td>201605_downsampled_example.png</td>\n",
       "      <td>28627</td>\n",
       "      <td>25005</td>\n",
       "    </tr>\n",
       "    <tr>\n",
       "      <th>2</th>\n",
       "      <td>201606</td>\n",
       "      <td>512897</td>\n",
       "      <td>201606_05001_CH1.tif</td>\n",
       "      <td>201606_downsampled_example.png</td>\n",
       "      <td>30698</td>\n",
       "      <td>29005</td>\n",
       "    </tr>\n",
       "  </tbody>\n",
       "</table>\n",
       "</div>"
      ],
      "text/plain": [
       "  hust_imaging_id labtrack_mouse_id full_resolution_image_path  \\\n",
       "0          201604            511266       201604_05001_CH1.tif   \n",
       "1          201605            512894       201605_05001_CH1.tif   \n",
       "2          201606            512897       201606_05001_CH1.tif   \n",
       "\n",
       "           downsampled_image_path x_size y_size  \n",
       "0  201604_downsampled_example.png  28523  22018  \n",
       "1  201605_downsampled_example.png  28627  25005  \n",
       "2  201606_downsampled_example.png  30698  29005  "
      ]
     },
     "execution_count": 6,
     "metadata": {},
     "output_type": "execute_result"
    }
   ],
   "source": [
    "examples"
   ]
  },
  {
   "cell_type": "code",
   "execution_count": null,
   "id": "61c38b6a",
   "metadata": {},
   "outputs": [],
   "source": []
  }
 ],
 "metadata": {
  "kernelspec": {
   "display_name": "Python 3 (ipykernel)",
   "language": "python",
   "name": "python3"
  },
  "language_info": {
   "codemirror_mode": {
    "name": "ipython",
    "version": 3
   },
   "file_extension": ".py",
   "mimetype": "text/x-python",
   "name": "python",
   "nbconvert_exporter": "python",
   "pygments_lexer": "ipython3",
   "version": "3.9.7"
  }
 },
 "nbformat": 4,
 "nbformat_minor": 5
}
