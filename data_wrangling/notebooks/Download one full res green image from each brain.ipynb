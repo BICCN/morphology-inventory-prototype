{
 "cells": [
  {
   "cell_type": "code",
   "execution_count": 1,
   "metadata": {},
   "outputs": [],
   "source": [
    "import os\n",
    "import pandas as pd\n",
    "import ftplib\n",
    "import SimpleITK as sitk"
   ]
  },
  {
   "cell_type": "code",
   "execution_count": 2,
   "metadata": {},
   "outputs": [],
   "source": [
    "def getFile(ftp, base_path, filename):\n",
    "    try:\n",
    "        ftp.retrbinary(\"RETR \" + filename ,open(os.path.join(base_path,filename), 'wb').write)\n",
    "    except:\n",
    "        print(\"Error\")"
   ]
  },
  {
   "cell_type": "code",
   "execution_count": 3,
   "metadata": {},
   "outputs": [],
   "source": [
    "output_directory = r'C:\\Users\\LydiaN\\OneDrive - Personal\\OneDrive\\Work\\DigitalAssets\\BICCNMorphologyInventory\\u19zeng'\n",
    "inventory_path = os.path.join(output_directory,'sample_inventory_with_image_info.csv')\n",
    "inventory = pd.read_csv(inventory_path)\n",
    "inventory.set_index('Sample ID', inplace=True)"
   ]
  },
  {
   "cell_type": "code",
   "execution_count": 4,
   "metadata": {},
   "outputs": [],
   "source": [
    "def get_dir_info(ftp) :\n",
    "    \n",
    "    data = []\n",
    "    ftp.dir(data.append)\n",
    "    data = [x.split() for x in data if x != '']\n",
    "    data = pd.DataFrame(data)\n",
    "    \n",
    "    return data\n",
    "\n",
    "def check_for_directory(data,dirname) :\n",
    "    \n",
    "    has_dir = False\n",
    "    for dindex, drow in data.iterrows() :\n",
    "        if drow[8] == dirname :\n",
    "            has_dir = True\n",
    "    return has_dir"
   ]
  },
  {
   "cell_type": "code",
   "execution_count": 5,
   "metadata": {},
   "outputs": [
    {
     "name": "stdout",
     "output_type": "stream",
     "text": [
      "['mouseID_210254-15257' 'mouseID_236174-16124' 'mouseID_297974-17109'\n",
      " 'mouseID_314107-17300' 'mouseID_321237-17302' 'mouseID_321244-17545'\n",
      " 'mouseID_325875-17543' 'mouseID_326952-17304' 'mouseID_339951-17781']\n"
     ]
    }
   ],
   "source": [
    "# come back and do 'mouseID_339951-17781'\n",
    "done_list = inventory.index[0:9].values\n",
    "print(done_list)"
   ]
  },
  {
   "cell_type": "code",
   "execution_count": 6,
   "metadata": {},
   "outputs": [],
   "source": [
    "request_list = ['mouseID_339951-17781']\n",
    "print(request_list)"
   ]
  },
  {
   "cell_type": "code",
   "execution_count": 7,
   "metadata": {
    "scrolled": false
   },
   "outputs": [
    {
     "name": "stdout",
     "output_type": "stream",
     "text": [
      "mouseID_339951-17781\n",
      "start dir\n",
      "end dir\n",
      "test_00011_mon.tif test_05011_mon.tif test_11031_mon.tif\n",
      "start download\n",
      "end download\n"
     ]
    }
   ],
   "source": [
    "count = 0\n",
    "for iindex, irow in inventory.iterrows() :\n",
    "    \n",
    "    if iindex not in request_list :\n",
    "        continue\n",
    "    \n",
    "    ftp = ftplib.FTP(host=\"download.brainimagelibrary.org\")\n",
    "    ftp.login()\n",
    "\n",
    "    home_dir = ftp.pwd()\n",
    "    remote_base = \"biccn/zeng/luo/fMOST\"\n",
    "    \n",
    "    print(iindex)\n",
    "    \n",
    "    # specimen output directory\n",
    "    spath = os.path.join(output_directory,iindex)\n",
    "    \n",
    "    # get listing of remote directory\n",
    "    rpath = remote_base + \"/\" + iindex\n",
    "    ftp.cwd( rpath )\n",
    "    data = get_dir_info( ftp )\n",
    "    \n",
    "    dlist = ['green','raw','fullres']\n",
    "    \n",
    "    for d in dlist :\n",
    "        data = get_dir_info(ftp)\n",
    "        has_dir = check_for_directory( data, d )\n",
    "        if not has_dir :\n",
    "            break\n",
    "        ftp.cwd(d)\n",
    "        \n",
    "    if d != dlist[-1] :\n",
    "        print(\"No raw/fullres directory - skipping\")\n",
    "        break\n",
    "        continue        \n",
    "        \n",
    "    print(\"start dir\")\n",
    "    data = get_dir_info(ftp)\n",
    "    print(\"end dir\")\n",
    "    \n",
    "    matched = ['tif' in x for x in data[8]]\n",
    "    filtered = data[matched]\n",
    "    ordered = filtered.sort_values(by=8)\n",
    "    first_file = ordered.loc[ordered.index[0], 8]\n",
    "    last_file = ordered.loc[ordered.index[-1], 8]\n",
    "    mid_file = ordered.loc[ordered.index[5000], 8]\n",
    "    print(first_file, mid_file, last_file)\n",
    "    \n",
    "    tpath = os.path.join( spath, 'green', 'raw', 'fullres')\n",
    "    os.makedirs(tpath,exist_ok=True)\n",
    "    \n",
    "    print(\"start download\")\n",
    "    getFile(ftp, tpath, mid_file )\n",
    "    print(\"end download\")\n",
    "        \n",
    "    inventory.loc[iindex,'first_full_green_image'] = first_file\n",
    "    inventory.loc[iindex,'last_full_green_image'] = last_file\n",
    "    inventory.loc[iindex,'example_full_green_image'] = mid_file\n",
    "    \n",
    "    ftp.quit()\n"
   ]
  },
  {
   "cell_type": "code",
   "execution_count": null,
   "metadata": {},
   "outputs": [],
   "source": []
  }
 ],
 "metadata": {
  "kernelspec": {
   "display_name": "Python 3 (ipykernel)",
   "language": "python",
   "name": "python3"
  },
  "language_info": {
   "codemirror_mode": {
    "name": "ipython",
    "version": 3
   },
   "file_extension": ".py",
   "mimetype": "text/x-python",
   "name": "python",
   "nbconvert_exporter": "python",
   "pygments_lexer": "ipython3",
   "version": "3.9.7"
  }
 },
 "nbformat": 4,
 "nbformat_minor": 4
}
